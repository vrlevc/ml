{
 "cells": [
  {
   "cell_type": "code",
   "execution_count": null,
   "id": "160b8bab",
   "metadata": {},
   "outputs": [],
   "source": [
    "import tensorflow as tf\n",
    "\n",
    "# Download and import the MIT Introduction to Deep Learning package\n",
    "# !pip install mitdeeplearning --quiet\n",
    "import mitdeeplearning as mdl\n",
    "\n",
    "import numpy as np\n",
    "import matplotlib.pyplot as plt"
   ]
  },
  {
   "cell_type": "code",
   "execution_count": null,
   "id": "f6399043",
   "metadata": {},
   "outputs": [],
   "source": [
    "a = tf.constant(15)\n",
    "b = tf.constant(61)\n",
    "c1 = tf.add(a, b)\n",
    "c2 = a + b\n",
    "print(c1)\n",
    "print(c2)"
   ]
  },
  {
   "cell_type": "code",
   "execution_count": null,
   "id": "9dcee00a",
   "metadata": {},
   "outputs": [],
   "source": [
    "def func(a, b):\n",
    "    c = tf.add(a, b)\n",
    "    d = tf.subtract(b, 1)\n",
    "    e = tf.multiply(c, d)\n",
    "    return e\n",
    "\n",
    "a, b = 1.5, 2.5\n",
    "e_out = func(a, b)\n",
    "print(e_out)"
   ]
  },
  {
   "cell_type": "code",
   "execution_count": null,
   "id": "bf7abefb",
   "metadata": {},
   "outputs": [],
   "source": [
    "class OurDenseLayer(tf.keras.layers.Layer):\n",
    "    def __init__(self, n_output_nodes):\n",
    "        super(OurDenseLayer, self).__init__()\n",
    "        self.n_output_nodes = n_output_nodes\n",
    "        \n",
    "    def build(self, input_shape):\n",
    "        d = int(input_shape[-1])\n",
    "        self.W = self.add_weight(name=\"weight\", shape=[d, self.n_output_nodes])\n",
    "        self.b = self.add_weight(name=\"bias\", shape=[1, self.n_output_nodes])\n",
    "        \n",
    "    def call(self, x):\n",
    "        z = tf.add(tf.matmul(x, self.W), self.b)\n",
    "        y = tf.sigmoid(z)\n",
    "        return y\n",
    "    \n",
    "tf.keras.utils.set_random_seed(1)\n",
    "layer = OurDenseLayer(3)\n",
    "layer.build((1,2))\n",
    "x_input = tf.constant([[1,2.]], shape=(1,2))\n",
    "y = layer.call(x_input)\n",
    "print(y.numpy())\n",
    "#mdl.lab1.test_custom_dense_layer_output(y)\n",
    "        "
   ]
  },
  {
   "cell_type": "code",
   "execution_count": null,
   "id": "675ff249",
   "metadata": {},
   "outputs": [],
   "source": [
    "from tensorflow.keras import Sequential\n",
    "from tensorflow.keras.layers import Dense\n",
    "\n",
    "n_output_nodes = 3\n",
    "model = Sequential()\n",
    "dense_layer = Dense(n_output_nodes, activation='sigmoid')\n",
    "model.add(dense_layer)\n",
    "\n",
    "x_input = tf.constant([[1,2.]], shape=(1,2))\n",
    "model_output = model(x_input).numpy()\n",
    "print(model_output)"
   ]
  },
  {
   "cell_type": "code",
   "execution_count": null,
   "id": "36f6521e",
   "metadata": {},
   "outputs": [],
   "source": [
    "from tensorflow.keras import Model\n",
    "from tensorflow.keras.layers import Dense\n",
    "\n",
    "class SubclassModel(tf.keras.Model):\n",
    "    def __init__(self, n_output_nodes):\n",
    "        super(SubclassModel, self).__init__()\n",
    "        self.dense_layer = Dense(n_output_nodes, activation='sigmoid')\n",
    "        \n",
    "    def call(self, inputs):\n",
    "        return self.dense_layer(inputs)\n",
    "    \n",
    "n_output_nodes = 3\n",
    "model = SubclassModel(n_output_nodes)\n",
    "x_input = tf.constant([[1, 2.]], shape=(1,2))\n",
    "print(model.call(x_input))"
   ]
  },
  {
   "cell_type": "code",
   "execution_count": null,
   "id": "94729869",
   "metadata": {},
   "outputs": [],
   "source": [
    "from tensorflow.keras import Model\n",
    "from tensorflow.keras.layers import Dense\n",
    "\n",
    "class IdentityModel(tf.keras.Model):\n",
    "    def __init__(self, n_output_nodes):\n",
    "        super(IdentityModel, self).__init__()\n",
    "        self.dense_layer = Dense(n_output_nodes, activation='sigmoid')\n",
    "        \n",
    "    def call(self, inputs, isidentity=False):\n",
    "        return self.dense_layer(inputs) if not isidentity else inputs\n",
    "    \n",
    "n_output_nodes = 3\n",
    "model = IdentityModel(n_output_nodes)\n",
    "x_input = tf.constant([[1,2.]], shape=(1,2))\n",
    "out_activate = model.call(x_input)\n",
    "out_identity = model.call(x_input, True)\n",
    "\n",
    "print(\"Network output with activation: {}; network identity output: {}\".format(out_activate.numpy(), out_identity.numpy()))"
   ]
  },
  {
   "cell_type": "code",
   "execution_count": null,
   "id": "4a92b17e",
   "metadata": {},
   "outputs": [],
   "source": [
    "x = tf.Variable(3.0)\n",
    "with tf.GradientTape() as tape:\n",
    "    y = x * x\n",
    "dy_dx = tape.gradient(y, x)\n",
    "assert dy_dx.numpy() == 6.0"
   ]
  },
  {
   "cell_type": "code",
   "execution_count": null,
   "id": "bdee49cd",
   "metadata": {},
   "outputs": [],
   "source": [
    "### Function minimization with automatic differentiation and SGD ###\n",
    "\n",
    "# Initialize a random value for our initial x\n",
    "x = tf.Variable([tf.random.normal([1])])\n",
    "print(f\"Initializing x={x.numpy()}\")\n",
    "\n",
    "learning_rate = 1e-2 # learning rate for SGD\n",
    "history = []\n",
    "# Define the target value\n",
    "x_f = 4\n",
    "\n",
    "# We will run SGD for a number of iterations. At each iteration, we compute the loss,\n",
    "#   compute the derivative of the loss with respect to x, and perform the SGD update.\n",
    "for i in range(500):\n",
    "  with tf.GradientTape() as tape:\n",
    "    loss = (x - x_f)**2\n",
    "\n",
    "  # loss minimization using gradient tape\n",
    "  grad = tape.gradient(loss, x) # compute the derivative of the loss with respect to x\n",
    "  new_x = x - learning_rate*grad # sgd update\n",
    "  x.assign(new_x) # update the value of x\n",
    "  history.append(x.numpy()[0])\n",
    "\n",
    "# Plot the evolution of x as we optimize towards x_f!\n",
    "plt.plot(history)\n",
    "plt.plot([0, 500],[x_f,x_f])\n",
    "plt.legend(('Predicted', 'True'))\n",
    "plt.xlabel('Iteration')\n",
    "plt.ylabel('x value')"
   ]
  }
 ],
 "metadata": {
  "kernelspec": {
   "display_name": ".venv",
   "language": "python",
   "name": "python3"
  },
  "language_info": {
   "codemirror_mode": {
    "name": "ipython",
    "version": 3
   },
   "file_extension": ".py",
   "mimetype": "text/x-python",
   "name": "python",
   "nbconvert_exporter": "python",
   "pygments_lexer": "ipython3",
   "version": "3.12.3"
  }
 },
 "nbformat": 4,
 "nbformat_minor": 5
}
