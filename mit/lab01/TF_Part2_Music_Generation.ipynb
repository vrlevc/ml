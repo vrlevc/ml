{
 "cells": [
  {
   "cell_type": "code",
   "execution_count": null,
   "id": "0859aad3",
   "metadata": {},
   "outputs": [],
   "source": [
    "import comet_ml\n",
    "COMET_API_KEY = \"Qinr5yrH2KKQJvTcie3hVIYK3\"\n",
    "\n",
    "import tensorflow as tf\n",
    "\n",
    "import mitdeeplearning as mdl\n",
    "\n",
    "import numpy as np\n",
    "import os\n",
    "import time\n",
    "import functools\n",
    "from IPython import display as ipythondisplay\n",
    "from tqdm import tqdm\n",
    "from scipy.io.wavfile import write\n",
    "\n",
    "# assert len(tf.config.list_physical_devices('GPU')) > 0\n",
    "# assert COMET_API_KEY != \"\", \"Please insert your Comet API Key\""
   ]
  },
  {
   "cell_type": "code",
   "execution_count": null,
   "id": "469f683c",
   "metadata": {},
   "outputs": [],
   "source": [
    "song = mdl.lab1.load_training_data()\n",
    "\n",
    "example_song = song[0]\n",
    "print(\"\\nExample song:\")\n",
    "print(example_song)"
   ]
  },
  {
   "cell_type": "code",
   "execution_count": null,
   "id": "c5cee548",
   "metadata": {},
   "outputs": [],
   "source": [
    "mdl.lab1.play_song(example_song)"
   ]
  },
  {
   "cell_type": "code",
   "execution_count": null,
   "id": "08fa6864",
   "metadata": {},
   "outputs": [],
   "source": [
    "songs_joined = \"\\n\\n\".join(song)\n",
    "\n",
    "vocab = sorted(set(songs_joined))\n",
    "print(f\"There are {len(vocab)} unique characters in the dataset\")\n",
    "print(vocab)"
   ]
  },
  {
   "cell_type": "code",
   "execution_count": null,
   "id": "78eec1e6",
   "metadata": {},
   "outputs": [],
   "source": [
    "char2idx = {u:i for i, u in enumerate(vocab)}\n",
    "idx2char = np.array(vocab)"
   ]
  },
  {
   "cell_type": "code",
   "execution_count": null,
   "id": "7aa2b120",
   "metadata": {},
   "outputs": [],
   "source": [
    "print('{')\n",
    "for char,_ in zip(char2idx, range(20)):\n",
    "    print('  {:4s}: {:3d},'.format(repr(char), char2idx[char]))\n",
    "print('  ...\\n}')"
   ]
  },
  {
   "cell_type": "code",
   "execution_count": null,
   "id": "aadf0088",
   "metadata": {},
   "outputs": [],
   "source": [
    "def vectorize_string(string):\n",
    "    vectorized_output = np.array([char2idx[char] for char in string])\n",
    "    return vectorized_output\n",
    "\n",
    "vectorized_songs = vectorize_string(songs_joined)"
   ]
  },
  {
   "cell_type": "code",
   "execution_count": null,
   "id": "6f66be6f",
   "metadata": {},
   "outputs": [],
   "source": [
    "print ('{} ---- characters mapped to int ----> {}'.format(repr(songs_joined[:10]), vectorized_songs[:10]))\n",
    "# check that vectorized_songs is a numpy array\n",
    "assert isinstance(vectorized_songs, np.ndarray), \"returned result should be a numpy array\""
   ]
  },
  {
   "cell_type": "code",
   "execution_count": null,
   "id": "7742237d",
   "metadata": {},
   "outputs": [],
   "source": [
    "def get_batch(vectorized_songs, seq_length, batch_size):\n",
    "    n = vectorized_songs.shape[0] - 1\n",
    "    idx = np.random.choice(n-seq_length, batch_size)\n",
    "    input_batch = [vectorized_songs[i : i+seq_length] for i in idx]\n",
    "    output_batch = [vectorized_songs[i+1 : i+1+seq_length] for i in idx]\n",
    "    x_batch = np.reshape(input_batch, [batch_size, seq_length])\n",
    "    y_batch = np.reshape(output_batch, [batch_size, seq_length])\n",
    "    return x_batch, y_batch\n",
    "\n",
    "test_args = (vectorized_songs, 10, 2)\n",
    "if not mdl.lab1.test_batch_func_types(get_batch, test_args) or \\\n",
    "   not mdl.lab1.test_batch_func_shapes(get_batch, test_args) or \\\n",
    "   not mdl.lab1.test_batch_func_next_step(get_batch, test_args):\n",
    "   print(\"======\\n[FAIL] could not pass tests\")\n",
    "else:\n",
    "   print(\"======\\n[PASS] passed all tests!\")"
   ]
  },
  {
   "cell_type": "code",
   "execution_count": null,
   "id": "cc809f12",
   "metadata": {},
   "outputs": [],
   "source": [
    "x_batch, y_batch = get_batch(vectorized_songs, seq_length=5, batch_size=1)\n",
    "\n",
    "for i, (input_idx, target_idx) in enumerate(zip(np.squeeze(x_batch), np.squeeze(y_batch))):\n",
    "    print(\"Step {:3d}\".format(i))\n",
    "    print(\"  input: {} ({:s})\".format(input_idx, repr(idx2char[input_idx])))\n",
    "    print(\"  expected output: {} ({:s})\".format(target_idx, repr(idx2char[target_idx])))"
   ]
  }
 ],
 "metadata": {
  "kernelspec": {
   "display_name": ".venv",
   "language": "python",
   "name": "python3"
  },
  "language_info": {
   "codemirror_mode": {
    "name": "ipython",
    "version": 3
   },
   "file_extension": ".py",
   "mimetype": "text/x-python",
   "name": "python",
   "nbconvert_exporter": "python",
   "pygments_lexer": "ipython3",
   "version": "3.12.3"
  }
 },
 "nbformat": 4,
 "nbformat_minor": 5
}
